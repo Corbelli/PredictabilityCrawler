{
 "cells": [
  {
   "cell_type": "code",
   "execution_count": 1,
   "metadata": {},
   "outputs": [],
   "source": [
    "using CSV, DataFrames"
   ]
  },
  {
   "cell_type": "code",
   "execution_count": 2,
   "metadata": {},
   "outputs": [],
   "source": [
    "top20_5 = DataFrame(CSV.read(\"data/csv_files/top20_5.csv\"));\n",
    "top20_h = DataFrame(CSV.read(\"data/csv_files/top20_h.csv\"));\n",
    "top20_d = DataFrame(CSV.read(\"data/csv_files/top20_d.csv\"));\n",
    "papers = unique(top20_d.tick);"
   ]
  },
  {
   "cell_type": "code",
   "execution_count": 2,
   "metadata": {},
   "outputs": [],
   "source": [
    "using Pkg; Pkg.activate(\"Market.jl\")\n",
    "include(\"Market.jl/src/load_cxy.jl\");"
   ]
  },
  {
   "cell_type": "code",
   "execution_count": 4,
   "metadata": {},
   "outputs": [],
   "source": [
    "function filterpaper(paper::String, df5::DataFrame, dfh::DataFrame, dfd::DataFrame)\n",
    "    filtered5 = df5[df5.tick .== paper, :]\n",
    "    filteredh = dfh[dfh.tick .== paper, :]\n",
    "    filteredd = dfd[dfd.tick .== paper, :]\n",
    "    return filtered5, filteredh, filteredd\n",
    "end\n",
    "# brfs3_5, brfs3_h, brfs3_d = filterpaper(papers[1], top20_5, top20_h, top20_d);"
   ]
  },
  {
   "cell_type": "code",
   "execution_count": 7,
   "metadata": {},
   "outputs": [
    {
     "name": "stdout",
     "output_type": "stream",
     "text": [
      "brfs3\n",
      "petr4\n",
      "bbas3\n",
      "bbdc4\n",
      "itsa4\n",
      "vale3\n",
      "itub4\n",
      "abev3\n",
      "rent3\n",
      "krot3\n",
      "b3sa3\n",
      "ccro3\n",
      "jbss3\n",
      "ggbr4\n",
      "estc3\n",
      "embr3\n",
      "elet3\n",
      "cmig4\n",
      "elet6\n",
      "csna3\n"
     ]
    }
   ],
   "source": [
    "for paper in papers\n",
    "    paper_5, paper_h, paper_d = filterpaper(paper, top20_5, top20_h, top20_d);\n",
    "    control, xfull, y = make_cxy(paper_5, paper_h, paper_d, 1);\n",
    "    filex = \"data/csv_files/\" * lowercase(paper) * \"_x.csv\"\n",
    "    filecontrol = \"data/csv_files/\" * lowercase(paper) * \"_control.csv\"\n",
    "    filey = \"data/csv_files/\" * lowercase(paper) * \"_y2.csv\"\n",
    "    CSV.write(filex, xfull)\n",
    "    CSV.write(filey, DataFrame(y=vec(y)))\n",
    "    CSV.write(filecontrol, control)\n",
    "    println(lowercase(paper))\n",
    "end"
   ]
  },
  {
   "cell_type": "markdown",
   "metadata": {},
   "source": [
    "# unique(top20_d.datetime)"
   ]
  },
  {
   "cell_type": "code",
   "execution_count": 3,
   "metadata": {},
   "outputs": [],
   "source": [
    "include(\"LoadMarket.jl/src/loadframe.jl\");"
   ]
  },
  {
   "cell_type": "code",
   "execution_count": 4,
   "metadata": {},
   "outputs": [
    {
     "name": "stdout",
     "output_type": "stream",
     "text": [
      "Archive:  data/ftp_files/NEG_20180702.zip\n",
      "  inflating: NEG_20180702.TXT        \n",
      "  3.729925 seconds (134.95 k allocations: 6.988 MiB)\n",
      "lendo\n",
      " 10.052477 seconds (15.01 M allocations: 738.352 MiB, 13.36% gc time)\n",
      "removendo\n",
      "  0.061738 seconds (42 allocations: 1.656 KiB)\n",
      "tratando\n",
      "  3.163181 seconds (5.46 M allocations: 546.296 MiB)\n"
     ]
    }
   ],
   "source": [
    "df = loadzipfile(\"data/ftp_files/NEG_20180702.zip\");"
   ]
  },
  {
   "cell_type": "code",
   "execution_count": 5,
   "metadata": {},
   "outputs": [
    {
     "data": {
      "text/plain": [
       "\"ticks.csv\""
      ]
     },
     "execution_count": 5,
     "metadata": {},
     "output_type": "execute_result"
    }
   ],
   "source": [
    "using StatsBase, CSV\n",
    "ticks = sort(by(df, :InstrumentSymbol, Trades = :SessionDate => length), :Trades, rev=true);\n",
    "CSV.write(\"ticks.csv\", ticks)"
   ]
  },
  {
   "cell_type": "code",
   "execution_count": null,
   "metadata": {},
   "outputs": [],
   "source": []
  }
 ],
 "metadata": {
  "kernelspec": {
   "display_name": "Julia 1.1.0",
   "language": "julia",
   "name": "julia-1.1"
  },
  "language_info": {
   "file_extension": ".jl",
   "mimetype": "application/julia",
   "name": "julia",
   "version": "1.1.0"
  }
 },
 "nbformat": 4,
 "nbformat_minor": 4
}
